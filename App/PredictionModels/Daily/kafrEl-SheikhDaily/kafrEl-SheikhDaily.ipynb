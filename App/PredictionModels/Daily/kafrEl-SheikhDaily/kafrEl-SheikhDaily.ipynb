{
 "cells": [
  {
   "cell_type": "code",
   "execution_count": 1,
   "id": "ce74d5fd-23d3-43fb-9d05-eec1ae7fbf71",
   "metadata": {},
   "outputs": [
    {
     "name": "stdout",
     "output_type": "stream",
     "text": [
      "Mean Absolute Error: 0.5477895267207017\n",
      "R² Score: 0.8735187894659273\n"
     ]
    },
    {
     "data": {
      "text/plain": [
       "['kafrEl-SheikhDaily_model_svr.joblib']"
      ]
     },
     "execution_count": 1,
     "metadata": {},
     "output_type": "execute_result"
    }
   ],
   "source": [
    "import numpy as np\n",
    "import pandas as pd\n",
    "import matplotlib.pyplot as plt\n",
    "from sklearn.model_selection import train_test_split, GridSearchCV\n",
    "from sklearn.preprocessing import MinMaxScaler, StandardScaler\n",
    "from feature_engine.creation import CyclicalFeatures\n",
    "import joblib\n",
    "from sklearn.metrics import mean_absolute_error, r2_score\n",
    "from sklearn.svm import SVR\n",
    "\n",
    "# Load the data\n",
    "path = 'kafrEl-SheikhDaily.csv'\n",
    "data = pd.read_csv(path)\n",
    "\n",
    "# Drop rows where any column has a value of -999\n",
    "data = data[(data != -999).all(axis=1)]\n",
    "\n",
    "# Separate features and targets\n",
    "df = data.drop(columns=\"ALLSKY_SFC_SW_DWN\")\n",
    "X = df\n",
    "y = data[\"ALLSKY_SFC_SW_DWN\"]\n",
    "\n",
    "# Split the data\n",
    "X_train, X_test, y_train, y_test = train_test_split(X, y, shuffle=True, test_size=0.25, random_state=30)\n",
    "\n",
    "# Apply cyclical transformation to time-related features\n",
    "cyclical = CyclicalFeatures(variables=['YEAR', 'MO', 'DY'], drop_original=True)\n",
    "new_X_train = cyclical.fit_transform(X_train[['YEAR', 'MO', 'DY']])\n",
    "new_X_test = cyclical.transform(X_test[['YEAR', 'MO', 'DY']])\n",
    "\n",
    "X_train = X_train.drop(columns=['YEAR', 'MO', 'DY'])\n",
    "X_train = pd.concat([new_X_train, X_train], axis=1)\n",
    "X_test = X_test.drop(columns=['YEAR', 'MO', 'DY'])\n",
    "X_test = pd.concat([new_X_test, X_test], axis=1)\n",
    "\n",
    "# Normalize the features\n",
    "X_scaler = MinMaxScaler()\n",
    "X_train[[\"T2M\", \"RH2M\", \"PRECTOTCORR\", \"PS\", \"WS10M\"]] = X_scaler.fit_transform(X_train[[\"T2M\", \"RH2M\", \"PRECTOTCORR\", \"PS\", \"WS10M\"]])\n",
    "X_test[[\"T2M\", \"RH2M\", \"PRECTOTCORR\", \"PS\", \"WS10M\"]] = X_scaler.transform(X_test[[\"T2M\", \"RH2M\", \"PRECTOTCORR\", \"PS\", \"WS10M\"]])\n",
    "\n",
    "# Save the scaler and cyclical transformer\n",
    "joblib.dump(X_scaler, 'kafrEl-SheikhDaily_scaler_svr.pkl')\n",
    "joblib.dump(cyclical, 'kafrEl-SheikhDaily_cyclical_svr.pkl')\n",
    "\n",
    "# Hyperparameter tuning for SVR with different kernels\n",
    "svr = SVR()\n",
    "param_grid = {\n",
    "    'kernel': ['poly'],\n",
    "    'C': [100],\n",
    "    'epsilon': [1],\n",
    "    'gamma': ['scale'],\n",
    "    'degree': [2],  # Only relevant for polynomial kernel\n",
    "    'coef0': [0.0]  # Only relevant for polynomial kernel\n",
    "}\n",
    "\n",
    "grid_search = GridSearchCV(svr, param_grid, cv=5, scoring='r2')\n",
    "grid_search.fit(X_train, y_train)\n",
    "\n",
    "# Best model evaluation\n",
    "best_svr = grid_search.best_estimator_\n",
    "\n",
    "# Predict the test data\n",
    "y_pred = best_svr.predict(X_test)\n",
    "\n",
    "# Calculate and print Mean Absolute Error (MAE)\n",
    "mae = mean_absolute_error(y_test, y_pred)\n",
    "print(f'Mean Absolute Error: {mae}')\n",
    "\n",
    "# Calculate and print R² score\n",
    "r2 = r2_score(y_test, y_pred)\n",
    "print(f'R² Score: {r2}')\n",
    "\n",
    "# Save the trained SVR model\n",
    "joblib.dump(best_svr, 'kafrEl-SheikhDaily_model_svr.joblib')\n"
   ]
  },
  {
   "cell_type": "code",
   "execution_count": 2,
   "id": "49286f7a-a9f3-4f3b-b504-779c1d5abf78",
   "metadata": {},
   "outputs": [
    {
     "name": "stdout",
     "output_type": "stream",
     "text": [
      "R^2 score: 0.8202864566808414\n"
     ]
    },
    {
     "name": "stderr",
     "output_type": "stream",
     "text": [
      "C:\\Users\\maria\\AppData\\Local\\Programs\\Python\\Python311\\Lib\\site-packages\\sklearn\\base.py:465: UserWarning: X does not have valid feature names, but SVR was fitted with feature names\n",
      "  warnings.warn(\n"
     ]
    }
   ],
   "source": [
    "import numpy as np\n",
    "import pandas as pd\n",
    "from sklearn.metrics import r2_score\n",
    "import joblib\n",
    "\n",
    "\n",
    "# Load the model\n",
    "svr_model = joblib.load('kafrEl-SheikhDaily_model_svr.joblib')\n",
    "# Load the scalers and cyclical transformer\n",
    "scaler = joblib.load('kafrEl-SheikhDaily_scaler_svr.pkl')\n",
    "cyclical = joblib.load('kafrEl-SheikhDaily_cyclical_svr.pkl')\n",
    "\n",
    "# Load the data\n",
    "path = 'kafrEl-SheikhDailyTest.csv'\n",
    "new_data = pd.read_csv(path)\n",
    "\n",
    "# Drop rows where any column has a value of -999\n",
    "new_data = new_data[(new_data != -999).all(axis=1)]\n",
    "\n",
    "# Extract actual values\n",
    "actual_values = new_data[\"ALLSKY_SFC_SW_DWN\"]\n",
    "\n",
    "# Prepare the data for prediction\n",
    "# Apply cyclical transformation to the date attributes\n",
    "date_features = new_data[['YEAR', 'MO', 'DY']]\n",
    "date_features_cyclical = cyclical.transform(date_features)\n",
    "\n",
    "# Apply scaling to the remaining features\n",
    "scaled_features = scaler.transform(new_data[[\"T2M\", \"RH2M\", \"PRECTOTCORR\", \"PS\", \"WS10M\"]])\n",
    "\n",
    "# Concatenate the transformed data\n",
    "transformed_data = np.concatenate((date_features_cyclical, scaled_features), axis=1)\n",
    "\n",
    "# Predict using the model\n",
    "predictions = svr_model.predict(transformed_data)\n",
    "\n",
    "# Calculate the R^2 score\n",
    "r2 = r2_score(actual_values, predictions)\n",
    "\n",
    "print(\"R^2 score:\", r2)\n"
   ]
  },
  {
   "cell_type": "code",
   "execution_count": null,
   "id": "9e9e1e19-f4c2-4d9e-9b7a-990886fd4aa5",
   "metadata": {},
   "outputs": [],
   "source": []
  }
 ],
 "metadata": {
  "kernelspec": {
   "display_name": "Python 3 (ipykernel)",
   "language": "python",
   "name": "python3"
  },
  "language_info": {
   "codemirror_mode": {
    "name": "ipython",
    "version": 3
   },
   "file_extension": ".py",
   "mimetype": "text/x-python",
   "name": "python",
   "nbconvert_exporter": "python",
   "pygments_lexer": "ipython3",
   "version": "3.11.1"
  }
 },
 "nbformat": 4,
 "nbformat_minor": 5
}
