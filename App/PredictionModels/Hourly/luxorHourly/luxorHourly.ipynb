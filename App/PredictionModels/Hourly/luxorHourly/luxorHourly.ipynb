{
 "cells": [
  {
   "cell_type": "code",
   "execution_count": 3,
   "id": "b2748b2a-4a90-4dce-8cb4-e2b3b229cba7",
   "metadata": {},
   "outputs": [
    {
     "name": "stdout",
     "output_type": "stream",
     "text": [
      "Mean Absolute Error: 37.95033343707952\n",
      "R² Score: 0.9772274459757736\n",
      "Best parameters found by grid search: {'C': 100, 'coef0': 0.0, 'degree': 2, 'epsilon': 1, 'gamma': 'scale', 'kernel': 'poly'}\n"
     ]
    }
   ],
   "source": [
    "import numpy as np\n",
    "import pandas as pd\n",
    "import matplotlib.pyplot as plt\n",
    "from sklearn.model_selection import train_test_split, GridSearchCV\n",
    "from sklearn.preprocessing import MinMaxScaler, StandardScaler\n",
    "from feature_engine.creation import CyclicalFeatures\n",
    "from sklearn.metrics import mean_absolute_error, r2_score\n",
    "from sklearn.svm import SVR\n",
    "import joblib\n",
    "\n",
    "# Load the data\n",
    "path = 'luxorHourly.csv'\n",
    "data = pd.read_csv(path)\n",
    "\n",
    "# Drop rows where any column has a value of -999\n",
    "data = data[(data != -999).all(axis=1)]\n",
    "\n",
    "# Filter hours to keep only from 5 AM to 8 PM (5 to 20 hours inclusive)\n",
    "data = data[(data['HR'] >= 5) & (data['HR'] <= 20)]\n",
    "\n",
    "# Separate features and targets\n",
    "df = data.drop(columns=\"ALLSKY_SFC_SW_DWN\")\n",
    "X = df\n",
    "y = data[\"ALLSKY_SFC_SW_DWN\"]\n",
    "\n",
    "# Split the data\n",
    "X_train, X_test, y_train, y_test = train_test_split(X, y, shuffle=True, test_size=0.20, random_state=30)\n",
    "\n",
    "# Apply cyclical transformation to time-related features\n",
    "cyclical = CyclicalFeatures(variables=['YEAR', 'MO', 'DY', 'HR'], drop_original=True)\n",
    "new_X_train = cyclical.fit_transform(X_train[['YEAR', 'MO', 'DY', 'HR']])\n",
    "new_X_test = cyclical.transform(X_test[['YEAR', 'MO', 'DY', 'HR']])\n",
    "\n",
    "X_train = X_train.drop(columns=['YEAR', 'MO', 'DY', 'HR'])\n",
    "X_train = pd.concat([new_X_train, X_train], axis=1)\n",
    "X_test = X_test.drop(columns=['YEAR', 'MO', 'DY', 'HR'])\n",
    "X_test = pd.concat([new_X_test, X_test], axis=1)\n",
    "\n",
    "# Normalize the features\n",
    "scaler = StandardScaler()\n",
    "X_train[[\"T2M\", \"RH2M\", \"PRECTOTCORR\", \"PS\", \"WS10M\"]] = scaler.fit_transform(X_train[[\"T2M\", \"RH2M\", \"PRECTOTCORR\", \"PS\", \"WS10M\"]])\n",
    "X_test[[\"T2M\", \"RH2M\", \"PRECTOTCORR\", \"PS\", \"WS10M\"]] = scaler.transform(X_test[[\"T2M\", \"RH2M\", \"PRECTOTCORR\", \"PS\", \"WS10M\"]])\n",
    "\n",
    "# Save the scaler and cyclical transformer\n",
    "joblib.dump(scaler, 'luxorHourly_scaler_svr.pkl')\n",
    "joblib.dump(cyclical, 'luxorHourly_cyclical_svr.pkl')\n",
    "\n",
    "# Hyperparameter tuning for SVR with different kernels\n",
    "svr = SVR()\n",
    "param_grid = {\n",
    "    'kernel': ['poly'],\n",
    "    'C': [100],\n",
    "    'epsilon': [1],\n",
    "    'gamma': ['scale'],\n",
    "    'degree': [2],  # Only relevant for polynomial kernel\n",
    "    'coef0': [0.0]  # Only relevant for polynomial kernel\n",
    "}\n",
    "grid_search = GridSearchCV(svr, param_grid, cv=5, scoring='r2')\n",
    "grid_search.fit(X_train, y_train)\n",
    "\n",
    "# Best model evaluation\n",
    "best_svr = grid_search.best_estimator_\n",
    "\n",
    "# Predict the test data\n",
    "y_pred = best_svr.predict(X_test)\n",
    "\n",
    "# Calculate Mean Absolute Error (MAE) and R² score\n",
    "mae = mean_absolute_error(y_test, y_pred)\n",
    "r2 = r2_score(y_test, y_pred)\n",
    "print(f'Mean Absolute Error: {mae}')\n",
    "print(f'R² Score: {r2}')\n",
    "\n",
    "# Save the trained SVR model\n",
    "joblib.dump(best_svr, 'luxorHourly_model_svr.joblib')\n",
    "\n",
    "print('Best parameters found by grid search:', grid_search.best_params_)"
   ]
  },
  {
   "cell_type": "code",
   "execution_count": 4,
   "id": "eeeee8d2-e6da-4a59-bdf1-e5c7082ce689",
   "metadata": {},
   "outputs": [
    {
     "name": "stderr",
     "output_type": "stream",
     "text": [
      "C:\\Users\\maria\\AppData\\Local\\Programs\\Python\\Python311\\Lib\\site-packages\\sklearn\\base.py:465: UserWarning: X does not have valid feature names, but SVR was fitted with feature names\n",
      "  warnings.warn(\n"
     ]
    },
    {
     "name": "stdout",
     "output_type": "stream",
     "text": [
      "R^2 score: 0.9445035554973382\n"
     ]
    }
   ],
   "source": [
    "import numpy as np\n",
    "import pandas as pd\n",
    "from sklearn.metrics import r2_score\n",
    "import joblib\n",
    "\n",
    "\n",
    "# Load the model\n",
    "svr_model = joblib.load('luxorHourly_model_svr.joblib')\n",
    "# Load the scalers and cyclical transformer\n",
    "scaler = joblib.load('luxorHourly_scaler_svr.pkl')\n",
    "cyclical = joblib.load('luxorHourly_cyclical_svr.pkl')\n",
    "\n",
    "# Load the data\n",
    "path = 'luxorHourlyTest.csv'\n",
    "new_data = pd.read_csv(path)\n",
    "\n",
    "# Drop rows where any column has a value of -999\n",
    "new_data = new_data[(new_data != -999).all(axis=1)]\n",
    "\n",
    "# Filter hours to keep only from 5 AM to 8 PM (5 to 20 hours inclusive)\n",
    "new_data = new_data[(new_data['HR'] >= 5) & (new_data['HR'] <= 20)]\n",
    "\n",
    "# Extract actual values\n",
    "actual_values = new_data[\"ALLSKY_SFC_SW_DWN\"]\n",
    "\n",
    "# Prepare the data for prediction\n",
    "# Apply cyclical transformation to the date attributes\n",
    "date_features = new_data[['YEAR', 'MO', 'DY', 'HR']]\n",
    "date_features_cyclical = cyclical.transform(date_features)\n",
    "\n",
    "# Apply scaling to the remaining features\n",
    "scaled_features = scaler.transform(new_data[[\"T2M\", \"RH2M\", \"PRECTOTCORR\", \"PS\", \"WS10M\"]])\n",
    "\n",
    "# Concatenate the transformed data\n",
    "transformed_data = np.concatenate((date_features_cyclical, scaled_features), axis=1)\n",
    "\n",
    "# Predict using the model\n",
    "predictions = svr_model.predict(transformed_data)\n",
    "\n",
    "# Calculate the R^2 score\n",
    "r2 = r2_score(actual_values, predictions)\n",
    "print(\"R^2 score:\", r2)\n"
   ]
  },
  {
   "cell_type": "code",
   "execution_count": null,
   "id": "2f43731d-564d-42d3-a7af-50974aba51a5",
   "metadata": {},
   "outputs": [],
   "source": []
  }
 ],
 "metadata": {
  "kernelspec": {
   "display_name": "Python 3 (ipykernel)",
   "language": "python",
   "name": "python3"
  },
  "language_info": {
   "codemirror_mode": {
    "name": "ipython",
    "version": 3
   },
   "file_extension": ".py",
   "mimetype": "text/x-python",
   "name": "python",
   "nbconvert_exporter": "python",
   "pygments_lexer": "ipython3",
   "version": "3.11.1"
  }
 },
 "nbformat": 4,
 "nbformat_minor": 5
}
